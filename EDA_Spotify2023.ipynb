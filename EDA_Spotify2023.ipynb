{
 "cells": [
  {
   "cell_type": "code",
   "execution_count": 385,
   "id": "28a0e1dd-b8d7-457e-ac45-9b5c9bb1beb6",
   "metadata": {},
   "outputs": [],
   "source": [
    "#Import the libraries that contains the necessary functions for the problem\n",
    "import numpy as np\n",
    "import pandas as pd\n",
    "import seaborn as sns\n",
    "import matplotlib.pyplot as plt"
   ]
  },
  {
   "cell_type": "markdown",
   "id": "5fcfad5a-0ddf-496c-846d-8cf176301d1a",
   "metadata": {},
   "source": [
    "### Seems that I'm having trouble loading the spreadsheet file so an additional fix will be applied ###"
   ]
  },
  {
   "cell_type": "code",
   "execution_count": 387,
   "id": "b44f07d1-594c-4e3e-b8dc-a25802758734",
   "metadata": {},
   "outputs": [],
   "source": [
    "#Change the directory path\n",
    "new_path = r\"C:\\Users\\PC\\Documents\\Python Codes\\Modules\\Incentives\\Top Spotify Music Incentives\\spotify-2023.csv\""
   ]
  },
  {
   "cell_type": "code",
   "execution_count": 388,
   "id": "3e73da8f-783d-4887-a88f-7b8e921c9c3b",
   "metadata": {},
   "outputs": [],
   "source": [
    "#load the spreadsheet file\n",
    "data = pd.read_csv(new_path, encoding='cp1252')"
   ]
  },
  {
   "cell_type": "markdown",
   "id": "4e27240b-33fa-4c02-b2c4-845a3eb58388",
   "metadata": {},
   "source": [
    "## Overview of Dataset ##\n",
    "- Determine the number of rows and columns that the dataset contain"
   ]
  },
  {
   "cell_type": "code",
   "execution_count": 390,
   "id": "1494a262-82cf-4e04-96ed-81bbe9a501d2",
   "metadata": {},
   "outputs": [
    {
     "name": "stdout",
     "output_type": "stream",
     "text": [
      "The dataset has 953 rows and 24 columns.\n"
     ]
    }
   ],
   "source": [
    "#Use .shape to get number of row and column respectively and assign their values to a variable\n",
    "row_count, column_count = data.shape\n",
    "\n",
    "#print\n",
    "print(\"The dataset has \" + str(row_count) + \" rows and \" + str(column_count) + \" columns.\")"
   ]
  },
  {
   "cell_type": "markdown",
   "id": "3ea0577f-000e-4f19-9973-0a325bb565d1",
   "metadata": {},
   "source": [
    "- What are the data types of each column?"
   ]
  },
  {
   "cell_type": "code",
   "execution_count": 392,
   "id": "d9ffa7f9-4f9e-42a3-94d1-927095a445c5",
   "metadata": {},
   "outputs": [
    {
     "name": "stdout",
     "output_type": "stream",
     "text": [
      "track_name              object\n",
      "artist(s)_name          object\n",
      "artist_count             int64\n",
      "released_year            int64\n",
      "released_month           int64\n",
      "released_day             int64\n",
      "in_spotify_playlists     int64\n",
      "in_spotify_charts        int64\n",
      "streams                 object\n",
      "in_apple_playlists       int64\n",
      "in_apple_charts          int64\n",
      "in_deezer_playlists     object\n",
      "in_deezer_charts         int64\n",
      "in_shazam_charts        object\n",
      "bpm                      int64\n",
      "key                     object\n",
      "mode                    object\n",
      "danceability_%           int64\n",
      "valence_%                int64\n",
      "energy_%                 int64\n",
      "acousticness_%           int64\n",
      "instrumentalness_%       int64\n",
      "liveness_%               int64\n",
      "speechiness_%            int64\n",
      "dtype: object\n"
     ]
    }
   ],
   "source": [
    "#Use .dtype to print the data type of each column\n",
    "print(data.dtypes)"
   ]
  },
  {
   "cell_type": "markdown",
   "id": "d6c98d87-2ed8-4471-bcb3-3a8418e85723",
   "metadata": {},
   "source": [
    "- Are there any missing values?"
   ]
  },
  {
   "cell_type": "code",
   "execution_count": 394,
   "id": "f857b8fa-59f8-4155-b0df-3d1c19660bb8",
   "metadata": {},
   "outputs": [
    {
     "name": "stdout",
     "output_type": "stream",
     "text": [
      "True\n"
     ]
    }
   ],
   "source": [
    "print(data.isnull().values.any()) #This line of code will print True if it finds at least one entry with missing value"
   ]
  },
  {
   "cell_type": "code",
   "execution_count": 395,
   "id": "57664e4a-99b2-4d5c-8054-d367ef87043d",
   "metadata": {},
   "outputs": [
    {
     "name": "stdout",
     "output_type": "stream",
     "text": [
      "Columns with missing values:\n",
      "track_name               0\n",
      "artist(s)_name           0\n",
      "artist_count             0\n",
      "released_year            0\n",
      "released_month           0\n",
      "released_day             0\n",
      "in_spotify_playlists     0\n",
      "in_spotify_charts        0\n",
      "streams                  0\n",
      "in_apple_playlists       0\n",
      "in_apple_charts          0\n",
      "in_deezer_playlists      0\n",
      "in_deezer_charts         0\n",
      "in_shazam_charts        50\n",
      "bpm                      0\n",
      "key                     95\n",
      "mode                     0\n",
      "danceability_%           0\n",
      "valence_%                0\n",
      "energy_%                 0\n",
      "acousticness_%           0\n",
      "instrumentalness_%       0\n",
      "liveness_%               0\n",
      "speechiness_%            0\n",
      "dtype: int64\n"
     ]
    }
   ],
   "source": [
    "print(\"Columns with missing values:\")\n",
    "# Check for missing values in each column\n",
    "print(data.isnull().sum()) #The values that will be printed indicates the number of entries with missing values of that specific column"
   ]
  },
  {
   "cell_type": "markdown",
   "id": "5354c0c9-260c-4729-b864-374ac54f1f42",
   "metadata": {},
   "source": [
    "## From this point on, I'll be using the cleaned data ##"
   ]
  },
  {
   "cell_type": "code",
   "execution_count": 396,
   "id": "69b4608f-bf0d-4fb8-beb1-867458f8b8ec",
   "metadata": {},
   "outputs": [],
   "source": [
    "#load the cleaned spreadsheet file\n",
    "newer_path = r\"C:\\Users\\PC\\Documents\\Python Codes\\Modules\\Incentives\\Top Spotify Music Incentives\\Spotify_2023_(Cleaned).csv\"\n",
    "\n",
    "cleaned_data = pd.read_csv(newer_path, encoding='cp1252')"
   ]
  },
  {
   "cell_type": "code",
   "execution_count": 397,
   "id": "a95bbc61-e08b-4774-a565-bafbda8aec00",
   "metadata": {},
   "outputs": [],
   "source": [
    "# Use .shape to get number of rows and columns respectively and assign their values to a variable\n",
    "cleaned_row_count, cleaned_column_count = cleaned_data.shape"
   ]
  },
  {
   "cell_type": "code",
   "execution_count": 398,
   "id": "80cd1904-324f-4d77-aa2f-7d699bcbc643",
   "metadata": {},
   "outputs": [
    {
     "name": "stdout",
     "output_type": "stream",
     "text": [
      "track_name              object\n",
      "artist(s)_name          object\n",
      "artist_count             int64\n",
      "released_year            int64\n",
      "released_month           int64\n",
      "released_day             int64\n",
      "in_spotify_playlists     int64\n",
      "in_spotify_charts        int64\n",
      "streams                 object\n",
      "in_apple_playlists       int64\n",
      "in_apple_charts          int64\n",
      "in_deezer_playlists     object\n",
      "in_deezer_charts         int64\n",
      "in_shazam_charts        object\n",
      "bpm                      int64\n",
      "key                     object\n",
      "mode                    object\n",
      "danceability_%           int64\n",
      "valence_%                int64\n",
      "energy_%                 int64\n",
      "acousticness_%           int64\n",
      "instrumentalness_%       int64\n",
      "liveness_%               int64\n",
      "speechiness_%            int64\n",
      "dtype: object\n"
     ]
    }
   ],
   "source": [
    "# Use .dtype to print the data type of each column\n",
    "print(cleaned_data.dtypes)"
   ]
  },
  {
   "cell_type": "code",
   "execution_count": 399,
   "id": "3f188465-4746-4b69-bf71-fdf8f86650e5",
   "metadata": {},
   "outputs": [
    {
     "name": "stdout",
     "output_type": "stream",
     "text": [
      "False\n"
     ]
    }
   ],
   "source": [
    "print(cleaned_data.isnull().values.any())  # This line of code will print True if it finds at least one entry with a missing value"
   ]
  },
  {
   "cell_type": "code",
   "execution_count": 415,
   "id": "80415a79-89ae-4c2f-a0fe-930bcf26942c",
   "metadata": {},
   "outputs": [
    {
     "name": "stdout",
     "output_type": "stream",
     "text": [
      "Columns with missing values:\n",
      "track_name              0\n",
      "artist(s)_name          0\n",
      "artist_count            0\n",
      "released_year           0\n",
      "released_month          0\n",
      "released_day            0\n",
      "in_spotify_playlists    0\n",
      "in_spotify_charts       0\n",
      "streams                 0\n",
      "in_apple_playlists      0\n",
      "in_apple_charts         0\n",
      "in_deezer_playlists     0\n",
      "in_deezer_charts        0\n",
      "in_shazam_charts        0\n",
      "bpm                     0\n",
      "key                     0\n",
      "mode                    0\n",
      "danceability_%          0\n",
      "valence_%               0\n",
      "energy_%                0\n",
      "acousticness_%          0\n",
      "instrumentalness_%      0\n",
      "liveness_%              0\n",
      "speechiness_%           0\n",
      "dtype: int64\n",
      "The dataset has 949 rows and 24 columns.\n"
     ]
    }
   ],
   "source": [
    "print(\"Columns with missing values:\")\n",
    "# Check for missing values in each column\n",
    "print(cleaned_data.isnull().sum())  # The values that will be printed indicates the number of entries with missing values in that specific column\n",
    "print(\"The dataset has \" + str(cleaned_row_count) + \" rows and \" + str(cleaned_column_count) + \" columns.\") #Display the number of rows and columns for the new and cleaned data set"
   ]
  },
  {
   "cell_type": "markdown",
   "id": "5ecae0cd-7079-47d7-87ad-f10002d65538",
   "metadata": {},
   "source": [
    "**The cleaned data set lost 4 rows as a result of removing the ~~duplicate songs~~**"
   ]
  },
  {
   "cell_type": "code",
   "execution_count": null,
   "id": "b4315fce-7063-401f-8601-e25166a82ee8",
   "metadata": {},
   "outputs": [],
   "source": []
  }
 ],
 "metadata": {
  "kernelspec": {
   "display_name": "Python 3 (ipykernel)",
   "language": "python",
   "name": "python3"
  },
  "language_info": {
   "codemirror_mode": {
    "name": "ipython",
    "version": 3
   },
   "file_extension": ".py",
   "mimetype": "text/x-python",
   "name": "python",
   "nbconvert_exporter": "python",
   "pygments_lexer": "ipython3",
   "version": "3.12.4"
  }
 },
 "nbformat": 4,
 "nbformat_minor": 5
}
